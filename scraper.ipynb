{
 "cells": [
  {
   "cell_type": "code",
   "execution_count": 11,
   "metadata": {},
   "outputs": [
    {
     "name": "stdout",
     "output_type": "stream",
     "text": [
      "Processing city: gent/9000\n",
      "Data saved to output_data/gent_9000_property_data.csv\n",
      "Finished processing city: gent/9000\n"
     ]
    }
   ],
   "source": [
    "import requests\n",
    "from bs4 import BeautifulSoup\n",
    "import csv\n",
    "import os\n",
    "\n",
    "def main():\n",
    "    cities_oost = [\"gent/9000\"]\n",
    "\n",
    "    for c in cities_oost:\n",
    "        try:\n",
    "            immoweb_urls = make_urls_immoweb([c])\n",
    "            print(f\"Processing city: {c}\")\n",
    "            data = main_immoweb(immoweb_urls)\n",
    "            save_to_csv(c, data)\n",
    "            print(f\"Finished processing city: {c}\")\n",
    "        except Exception as e:\n",
    "            print(f\"An error occurred for city {c}: {e}\")\n",
    "\n",
    "# Append the cities name to the URLs by subproperty types\n",
    "def make_urls_immoweb(cities_oost):\n",
    "    url = []\n",
    "    for c in cities_oost:\n",
    "        url.append(f\"https://www.immoweb.be/en/search/bungalow/for-sale/{c}\")\n",
    "        url.append(f\"https://www.immoweb.be/en/search/castle/for-sale/{c}\")\n",
    "    return url\n",
    "\n",
    "# Placeholder for processing Immoweb URLs\n",
    "def main_immoweb(urls):\n",
    "    data_list = []\n",
    "\n",
    "    for url in urls:\n",
    "        try:\n",
    "            response = requests.get(url)\n",
    "            response.raise_for_status()  # Raise an error for bad responses\n",
    "\n",
    "            soup = BeautifulSoup(response.text, 'html.parser')\n",
    "\n",
    "            # Example: Extract data from the webpage\n",
    "            property_info = soup.select_one('p.classified__information--property')\n",
    "            property_data = {\n",
    "                'URL': url,\n",
    "                'Some_Property_Info': property_info.text.strip() if property_info else 'N/A',\n",
    "                # ... (add more fields as needed)\n",
    "            }\n",
    "\n",
    "            data_list.append(property_data)\n",
    "        except Exception as e:\n",
    "            print(f\"An error occurred for URL {url}: {e}\")\n",
    "\n",
    "    return data_list\n",
    "\n",
    "def save_to_csv(city, data_list):\n",
    "    csv_filename = f\"{city.replace('/', '_')}_property_data.csv\"\n",
    "    directory = \"output_data\"  # Adjust this directory as needed\n",
    "\n",
    "    # Create the directory if it doesn't exist\n",
    "    if not os.path.exists(directory):\n",
    "        os.makedirs(directory)\n",
    "\n",
    "    csv_path = os.path.join(directory, csv_filename)\n",
    "\n",
    "    with open(csv_path, mode='w', newline='', encoding='utf-8') as csv_file:\n",
    "        fieldnames = ['URL', 'Some_Property_Info']  # Add more field names as needed\n",
    "        writer = csv.DictWriter(csv_file, fieldnames=fieldnames)\n",
    "\n",
    "        writer.writeheader()\n",
    "        for data in data_list:\n",
    "            writer.writerow(data)\n",
    "\n",
    "    print(f\"Data saved to {csv_path}\")\n",
    "\n",
    "if __name__ == \"__main__\":\n",
    "    main()\n",
    "\n"
   ]
  },
  {
   "cell_type": "code",
   "execution_count": null,
   "metadata": {},
   "outputs": [],
   "source": [
    "\n",
    "\n"
   ]
  }
 ],
 "metadata": {
  "kernelspec": {
   "display_name": "venv",
   "language": "python",
   "name": "python3"
  },
  "language_info": {
   "codemirror_mode": {
    "name": "ipython",
    "version": 3
   },
   "file_extension": ".py",
   "mimetype": "text/x-python",
   "name": "python",
   "nbconvert_exporter": "python",
   "pygments_lexer": "ipython3",
   "version": "3.10.4"
  }
 },
 "nbformat": 4,
 "nbformat_minor": 2
}
