{
 "cells": [
  {
   "cell_type": "markdown",
   "metadata": {},
   "source": [
    "Below is a Python snippet that uses BeautifulSoup to scrape data for two properties from Immoweb:"
   ]
  },
  {
   "cell_type": "code",
   "execution_count": null,
   "metadata": {},
   "outputs": [],
   "source": [
    "import requests\n",
    "from bs4 import BeautifulSoup\n",
    "\n",
    "# Define the URL of the property page\n",
    "    # url = \"https://www.immoweb.be/en/classified/new-real-estate-project-apartments/for-sale/aalst/9300/11079416\"\n",
    "url = \"https://www.immoweb.be/nl/zoekertje/appartement/te-koop/gavere/9890/11140877\"\n",
    "\n",
    "# Send a GET request to the URL\n",
    "response = requests.get(url)\n",
    "\n",
    "# Parse the HTML content\n",
    "soup = BeautifulSoup(response.content, 'html.parser')\n",
    "print(soup.prettify())\n",
    "\n",
    "# Find the price element by <p> tag\n",
    "price_element = soup.find('p', class_='classified__price').text.strip()\n",
    "\n",
    "# Print the price\n",
    "print(\"Price:\", price_element)\n"
   ]
  },
  {
   "cell_type": "code",
   "execution_count": 54,
   "metadata": {},
   "outputs": [
    {
     "name": "stdout",
     "output_type": "stream",
     "text": [
      "Price: €349,000 - €655,000*                                                From 349000€ To 655000€\n",
      "Immoweb Code: Immoweb code : 11079416\n",
      "Property Information: 2 bedrooms\n",
      "                                                                                        |\n",
      "                                                                                        108 - 133\n",
      "                                \n",
      "\n",
      "                                        m²                                    \n",
      "\n",
      "                                        square meters\n",
      "Address information not found.\n"
     ]
    }
   ],
   "source": [
    "import requests\n",
    "from bs4 import BeautifulSoup\n",
    "\n",
    "# Define the URL\n",
    "url = \"https://www.immoweb.be/en/classified/new-real-estate-project-apartments/for-sale/aalst/9300/11079416\"\n",
    "\n",
    "# Send a GET request to the URL\n",
    "response = requests.get(url)\n",
    "\n",
    "# Parse the HTML content\n",
    "soup = BeautifulSoup(response.content, 'html.parser')\n",
    "\n",
    "# Find the price element\n",
    "price_element = soup.find('p', class_='classified__price')\n",
    "\n",
    "# Find the immoweb code element\n",
    "code_element = soup.find('div', class_='classified__header--immoweb-code')\n",
    "\n",
    "# Find the property information element\n",
    "property_info_element = soup.find('p', class_='classified__information--property')\n",
    "\n",
    "# Find the address element\n",
    "address_element = soup.find('div', class_='classified__information--address')\n",
    "\n",
    "# Extract and print the price if available\n",
    "if price_element:\n",
    "    price = price_element.text.strip()\n",
    "    print(\"Price:\", price)\n",
    "else:\n",
    "    print(\"Price information not found.\")\n",
    "\n",
    "# Extract and print the immoweb code if available\n",
    "if code_element:\n",
    "    code = code_element.text.strip()\n",
    "    print(\"Immoweb Code:\", code)\n",
    "else:\n",
    "    print(\"Immoweb code information not found.\")\n",
    "\n",
    "# Extract and print the property information if available\n",
    "if property_info_element:\n",
    "    property_info = property_info_element.text.strip()\n",
    "    print(\"Property Information:\", property_info)\n",
    "else:\n",
    "    print(\"Property information not found.\")\n",
    "\n",
    "# Extract and print the address if available\n",
    "if address_element:\n",
    "    address = address_element.text.strip()\n",
    "    print(\"Address:\", address)\n",
    "else:\n",
    "    print(\"Address information not found.\")\n"
   ]
  }
 ],
 "metadata": {
  "kernelspec": {
   "display_name": "venv",
   "language": "python",
   "name": "python3"
  },
  "language_info": {
   "codemirror_mode": {
    "name": "ipython",
    "version": 3
   },
   "file_extension": ".py",
   "mimetype": "text/x-python",
   "name": "python",
   "nbconvert_exporter": "python",
   "pygments_lexer": "ipython3",
   "version": "3.11.8"
  }
 },
 "nbformat": 4,
 "nbformat_minor": 2
}
